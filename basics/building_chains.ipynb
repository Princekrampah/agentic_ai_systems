{
 "cells": [
  {
   "cell_type": "markdown",
   "metadata": {},
   "source": [
    "# Building Chains"
   ]
  },
  {
   "cell_type": "code",
   "execution_count": 1,
   "metadata": {},
   "outputs": [],
   "source": [
    "from langchain_core.messages import HumanMessage, AIMessage\n",
    "from pprint import pprint"
   ]
  },
  {
   "cell_type": "code",
   "execution_count": 3,
   "metadata": {},
   "outputs": [],
   "source": [
    "messages = [AIMessage(content=\"Hello, how can I help you today!\", name=\"LLM\")]\n",
    "\n",
    "messages.extend([HumanMessage(content=\"I am fine, thank you.\", name=\"Human\")])\n",
    "messages.extend([AIMessage(content=\"Great! I am fine too. How is work going today?\", name=\"LLM\")])\n",
    "messages.extend([HumanMessage(content=\"Great! all is fine on my end.\", name=\"Human\")])"
   ]
  },
  {
   "cell_type": "code",
   "execution_count": 4,
   "metadata": {},
   "outputs": [
    {
     "name": "stdout",
     "output_type": "stream",
     "text": [
      "==================================\u001b[1m Ai Message \u001b[0m==================================\n",
      "Name: LLM\n",
      "\n",
      "Hello, how can I help you today!\n",
      "================================\u001b[1m Human Message \u001b[0m=================================\n",
      "Name: Human\n",
      "\n",
      "I am fine, thank you.\n",
      "==================================\u001b[1m Ai Message \u001b[0m==================================\n",
      "Name: LLM\n",
      "\n",
      "Great! I am fine too. How is work going today?\n",
      "================================\u001b[1m Human Message \u001b[0m=================================\n",
      "Name: Human\n",
      "\n",
      "Great! all is fine on my end.\n"
     ]
    }
   ],
   "source": [
    "for m in messages:\n",
    "    m.pretty_print()"
   ]
  },
  {
   "cell_type": "markdown",
   "metadata": {},
   "source": [
    "### Load Env"
   ]
  },
  {
   "cell_type": "code",
   "execution_count": 10,
   "metadata": {},
   "outputs": [],
   "source": [
    "from dotenv import load_dotenv\n",
    "import os"
   ]
  },
  {
   "cell_type": "code",
   "execution_count": 9,
   "metadata": {},
   "outputs": [],
   "source": [
    "%reload_ext dotenv\n",
    "%dotenv"
   ]
  },
  {
   "cell_type": "markdown",
   "metadata": {},
   "source": [
    "### Chat Models"
   ]
  },
  {
   "cell_type": "code",
   "execution_count": null,
   "metadata": {},
   "outputs": [],
   "source": [
    "# !pip install python-dotenv\n",
    "\n",
    "# ANTHROPIC_API_KEY=XXXXXX"
   ]
  },
  {
   "cell_type": "code",
   "execution_count": 5,
   "metadata": {},
   "outputs": [],
   "source": [
    "from langchain_anthropic import ChatAnthropic"
   ]
  },
  {
   "cell_type": "code",
   "execution_count": 11,
   "metadata": {},
   "outputs": [],
   "source": [
    "model = ChatAnthropic(model=\"claude-3-5-sonnet-20241022\", \n",
    "                      api_key=os.environ.get(\"ANTHROPIC_API_KEY\"))"
   ]
  },
  {
   "cell_type": "code",
   "execution_count": 12,
   "metadata": {},
   "outputs": [],
   "source": [
    "results = model.invoke(messages)"
   ]
  },
  {
   "cell_type": "code",
   "execution_count": 14,
   "metadata": {},
   "outputs": [
    {
     "name": "stdout",
     "output_type": "stream",
     "text": [
      "Result\n",
      "===============================\n",
      "Glad to hear everything is going well! Is there anything specific you'd like to discuss or any way I can help you today?\n"
     ]
    }
   ],
   "source": [
    "print(\"Result\")\n",
    "print(\"===============================\")\n",
    "print(results.content)"
   ]
  },
  {
   "cell_type": "markdown",
   "metadata": {},
   "source": [
    "### Tools"
   ]
  },
  {
   "cell_type": "code",
   "execution_count": 15,
   "metadata": {},
   "outputs": [],
   "source": [
    "def addition(a: int, b: int) -> int:\n",
    "    \"\"\"This tool is to be used to add two numbers together\"\"\"\n",
    "    return a + b"
   ]
  },
  {
   "cell_type": "code",
   "execution_count": 16,
   "metadata": {},
   "outputs": [],
   "source": [
    "llm_with_tool = model.bind_tools([addition])"
   ]
  },
  {
   "cell_type": "code",
   "execution_count": 17,
   "metadata": {},
   "outputs": [],
   "source": [
    "llm_with_tool_response = llm_with_tool.invoke([HumanMessage(content=\"What is the sum of 10 and 20\", name=\"Prince\")])"
   ]
  },
  {
   "cell_type": "code",
   "execution_count": 18,
   "metadata": {},
   "outputs": [
    {
     "name": "stdout",
     "output_type": "stream",
     "text": [
      "Result\n",
      "====================================\n",
      "content=[{'text': \"I'll help you add those numbers together using the addition tool.\", 'type': 'text'}, {'id': 'toolu_0194qsrSEKjHy5eB3oTdLJPF', 'input': {'a': 10, 'b': 20}, 'name': 'addition', 'type': 'tool_use'}] additional_kwargs={} response_metadata={'id': 'msg_01TWAjfDYqVHvUw8UhjLgaeA', 'model': 'claude-3-5-sonnet-20241022', 'stop_reason': 'tool_use', 'stop_sequence': None, 'usage': {'input_tokens': 401, 'output_tokens': 82}} id='run-6eb9c2a2-9ab8-4377-a872-5ce69fe08673-0' tool_calls=[{'name': 'addition', 'args': {'a': 10, 'b': 20}, 'id': 'toolu_0194qsrSEKjHy5eB3oTdLJPF', 'type': 'tool_call'}] usage_metadata={'input_tokens': 401, 'output_tokens': 82, 'total_tokens': 483, 'input_token_details': {}}\n"
     ]
    }
   ],
   "source": [
    "print(\"Result\")\n",
    "print(\"====================================\")\n",
    "print(llm_with_tool_response)"
   ]
  },
  {
   "cell_type": "markdown",
   "metadata": {},
   "source": [
    "### Using Messages As State"
   ]
  },
  {
   "cell_type": "code",
   "execution_count": 21,
   "metadata": {},
   "outputs": [],
   "source": [
    "from langchain_core.messages import AnyMessage\n",
    "from typing import TypedDict, List, Annotated\n",
    "from langgraph.graph.message import add_messages"
   ]
  },
  {
   "cell_type": "code",
   "execution_count": 22,
   "metadata": {},
   "outputs": [],
   "source": [
    "class MessageState(TypedDict):\n",
    "    messages: Annotated[List[AnyMessage], add_messages]"
   ]
  },
  {
   "cell_type": "code",
   "execution_count": 23,
   "metadata": {},
   "outputs": [],
   "source": [
    "messages = [\n",
    "    HumanMessage(content=\"Hello, how are you doing.\", name=\"Prince\"),\n",
    "    AIMessage(content=\"Hello Prince, am fine thank you.\", name=\"LLM\")\n",
    "]"
   ]
  },
  {
   "cell_type": "code",
   "execution_count": 25,
   "metadata": {},
   "outputs": [
    {
     "name": "stdout",
     "output_type": "stream",
     "text": [
      "================================\u001b[1m Human Message \u001b[0m=================================\n",
      "Name: Prince\n",
      "\n",
      "Hello, how are you doing.\n",
      "==================================\u001b[1m Ai Message \u001b[0m==================================\n",
      "Name: LLM\n",
      "\n",
      "Hello Prince, am fine thank you.\n"
     ]
    }
   ],
   "source": [
    "additional_msg = [HumanMessage(content=\"I am fine too. How is work on your end.\", name=\"Prince\")]\n",
    "\n",
    "\n",
    "for m in messages:\n",
    "    m.pretty_print()"
   ]
  },
  {
   "cell_type": "code",
   "execution_count": 29,
   "metadata": {},
   "outputs": [],
   "source": [
    "updated_msg = (add_messages(messages, additional_msg))"
   ]
  },
  {
   "cell_type": "code",
   "execution_count": 30,
   "metadata": {},
   "outputs": [
    {
     "name": "stdout",
     "output_type": "stream",
     "text": [
      "================================\u001b[1m Human Message \u001b[0m=================================\n",
      "Name: Prince\n",
      "\n",
      "Hello, how are you doing.\n",
      "==================================\u001b[1m Ai Message \u001b[0m==================================\n",
      "Name: LLM\n",
      "\n",
      "Hello Prince, am fine thank you.\n",
      "================================\u001b[1m Human Message \u001b[0m=================================\n",
      "Name: Prince\n",
      "\n",
      "I am fine too. How is work on your end.\n"
     ]
    }
   ],
   "source": [
    "for m in updated_msg:\n",
    "    m.pretty_print()"
   ]
  },
  {
   "cell_type": "markdown",
   "metadata": {},
   "source": [
    "### Putting It All Together"
   ]
  },
  {
   "cell_type": "code",
   "execution_count": 39,
   "metadata": {},
   "outputs": [],
   "source": [
    "def tool_calling_llm(state: MessageState) -> MessageState:\n",
    "    model = ChatAnthropic(model=\"claude-3-5-sonnet-20241022\", \n",
    "                      api_key=os.environ.get(\"ANTHROPIC_API_KEY\"))\n",
    "    \n",
    "    llm_with_tool = model.bind_tools([addition])\n",
    "    \n",
    "    llm_with_tool_response = llm_with_tool.invoke(state[\"messages\"])\n",
    "    \n",
    "    return {\"messages\": [llm_with_tool_response]}"
   ]
  },
  {
   "cell_type": "markdown",
   "metadata": {},
   "source": [
    "### Building Agent Graph"
   ]
  },
  {
   "cell_type": "code",
   "execution_count": 40,
   "metadata": {},
   "outputs": [],
   "source": [
    "from langgraph.graph import MessagesState, START, END, StateGraph"
   ]
  },
  {
   "cell_type": "code",
   "execution_count": 41,
   "metadata": {},
   "outputs": [],
   "source": [
    "builder = StateGraph(MessagesState)\n",
    "\n",
    "builder.add_node(\"tool_calling_llm\", tool_calling_llm)\n",
    "\n",
    "builder.add_edge(START, \"tool_calling_llm\")\n",
    "builder.add_edge(\"tool_calling_llm\", END)\n",
    "\n",
    "graph = builder.compile()"
   ]
  },
  {
   "cell_type": "code",
   "execution_count": 42,
   "metadata": {},
   "outputs": [],
   "source": [
    "from IPython.display import display, Image"
   ]
  },
  {
   "cell_type": "code",
   "execution_count": 43,
   "metadata": {},
   "outputs": [
    {
     "data": {
      "image/png": "[encoded data removed]",
      "text/plain": [
       "<IPython.core.display.Image object>"
      ]
     },
     "metadata": {},
     "output_type": "display_data"
    }
   ],
   "source": [
    "display(Image(graph.get_graph().draw_mermaid_png()))"
   ]
  },
  {
   "cell_type": "markdown",
   "metadata": {},
   "source": [
    "### Invocation"
   ]
  },
  {
   "cell_type": "code",
   "execution_count": 44,
   "metadata": {},
   "outputs": [
    {
     "name": "stdout",
     "output_type": "stream",
     "text": [
      "{'messages': [HumanMessage(content='What is the sum of 10 and 30', additional_kwargs={}, response_metadata={}, name='Prince', id='dc414669-e45b-4c8e-802e-0b2874c59ce4'), AIMessage(content=[{'text': \"I'll help you add these numbers together using the addition tool.\", 'type': 'text'}, {'id': 'toolu_01E5NEdsx8zBkqJgJV2aEDiG', 'input': {'a': 10, 'b': 30}, 'name': 'addition', 'type': 'tool_use'}], additional_kwargs={}, response_metadata={'id': 'msg_01YS8XWXaiaoyCxqmD84FDKb', 'model': 'claude-3-5-sonnet-20241022', 'stop_reason': 'tool_use', 'stop_sequence': None, 'usage': {'input_tokens': 401, 'output_tokens': 82}}, id='run-084da2fe-0610-4799-92ee-424dc4fa4083-0', tool_calls=[{'name': 'addition', 'args': {'a': 10, 'b': 30}, 'id': 'toolu_01E5NEdsx8zBkqJgJV2aEDiG', 'type': 'tool_call'}], usage_metadata={'input_tokens': 401, 'output_tokens': 82, 'total_tokens': 483, 'input_token_details': {}})]}\n"
     ]
    }
   ],
   "source": [
    "result = graph.invoke({\"messages\": HumanMessage(content=\"What is the sum of 10 and 30\", name=\"Prince\")})\n",
    "\n",
    "print(result)"
   ]
  },
  {
   "cell_type": "code",
   "execution_count": 46,
   "metadata": {},
   "outputs": [
    {
     "name": "stdout",
     "output_type": "stream",
     "text": [
      "{'messages': [HumanMessage(content='How are you doing today.', additional_kwargs={}, response_metadata={}, name='Prince', id='fba138c7-6227-467f-8a41-7eafb6dc55fd'), AIMessage(content='I appreciate you asking, but I notice that your question isn\\'t something I can address using the available tools. The only tool I have access to is an \"addition\" function that adds two numbers together. I can help you with mathematical addition if you\\'d like. Would you like to try adding some numbers together?', additional_kwargs={}, response_metadata={'id': 'msg_01BMhwtd4nbPtkNNaAYVu3Ht', 'model': 'claude-3-5-sonnet-20241022', 'stop_reason': 'end_turn', 'stop_sequence': None, 'usage': {'input_tokens': 396, 'output_tokens': 66}}, id='run-164dcfd8-3944-41e7-bbb1-ec4d8765c522-0', usage_metadata={'input_tokens': 396, 'output_tokens': 66, 'total_tokens': 462, 'input_token_details': {}})]}\n"
     ]
    }
   ],
   "source": [
    "result = graph.invoke({\"messages\": [HumanMessage(content=\"How are you doing today.\", name=\"Prince\")]})\n",
    "\n",
    "print(result)"
   ]
  },
  {
   "cell_type": "code",
   "execution_count": 47,
   "metadata": {},
   "outputs": [
    {
     "name": "stdout",
     "output_type": "stream",
     "text": [
      "{'messages': [HumanMessage(content='How are you doing today.', additional_kwargs={}, response_metadata={}, name='Prince', id='fba138c7-6227-467f-8a41-7eafb6dc55fd'), AIMessage(content='I appreciate you asking, but I notice that your question isn\\'t something I can address using the available tools. The only tool I have access to is an \"addition\" function that adds two numbers together. I can help you with mathematical addition if you\\'d like. Would you like to try adding some numbers together?', additional_kwargs={}, response_metadata={'id': 'msg_01BMhwtd4nbPtkNNaAYVu3Ht', 'model': 'claude-3-5-sonnet-20241022', 'stop_reason': 'end_turn', 'stop_sequence': None, 'usage': {'input_tokens': 396, 'output_tokens': 66}}, id='run-164dcfd8-3944-41e7-bbb1-ec4d8765c522-0', usage_metadata={'input_tokens': 396, 'output_tokens': 66, 'total_tokens': 462, 'input_token_details': {}})]}\n"
     ]
    }
   ],
   "source": [
    "print(result)"
   ]
  },
  {
   "cell_type": "code",
   "execution_count": 49,
   "metadata": {},
   "outputs": [
    {
     "ename": "TypeError",
     "evalue": "Pregel.aget_state() missing 1 required positional argument: 'config'",
     "output_type": "error",
     "traceback": [
      "\u001b[0;31m---------------------------------------------------------------------------\u001b[0m",
      "\u001b[0;31mTypeError\u001b[0m                                 Traceback (most recent call last)",
      "Cell \u001b[0;32mIn[49], line 1\u001b[0m\n\u001b[0;32m----> 1\u001b[0m \u001b[43mgraph\u001b[49m\u001b[38;5;241;43m.\u001b[39;49m\u001b[43maget_state\u001b[49m\u001b[43m(\u001b[49m\u001b[43m)\u001b[49m\n",
      "\u001b[0;31mTypeError\u001b[0m: Pregel.aget_state() missing 1 required positional argument: 'config'"
     ]
    }
   ],
   "source": [
    "graph.aget_state()"
   ]
  },
  {
   "cell_type": "code",
   "execution_count": null,
   "metadata": {},
   "outputs": [],
   "source": []
  }
 ],
 "metadata": {
  "kernelspec": {
   "display_name": "venv",
   "language": "python",
   "name": "python3"
  },
  "language_info": {
   "codemirror_mode": {
    "name": "ipython",
    "version": 3
   },
   "file_extension": ".py",
   "mimetype": "text/x-python",
   "name": "python",
   "nbconvert_exporter": "python",
   "pygments_lexer": "ipython3",
   "version": "3.11.10"
  }
 },
 "nbformat": 4,
 "nbformat_minor": 2
}
