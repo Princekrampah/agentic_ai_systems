{
 "cells": [
  {
   "cell_type": "markdown",
   "metadata": {},
   "source": [
    "## Simple Graph (AI Agent)"
   ]
  },
  {
   "cell_type": "markdown",
   "metadata": {},
   "source": [
    "### Installation"
   ]
  },
  {
   "cell_type": "code",
   "execution_count": 1,
   "metadata": {},
   "outputs": [],
   "source": [
    "%%capture --no-stderr\n",
    "%pip install -U langgraph langsmith langchain_anthropic"
   ]
  },
  {
   "cell_type": "markdown",
   "metadata": {},
   "source": [
    "### Graph State"
   ]
  },
  {
   "cell_type": "code",
   "execution_count": 2,
   "metadata": {},
   "outputs": [],
   "source": [
    "from typing import TypedDict\n",
    "\n",
    "\n",
    "class State(TypedDict):\n",
    "    graph_msg: str"
   ]
  },
  {
   "cell_type": "markdown",
   "metadata": {},
   "source": [
    "### Nodes Functions"
   ]
  },
  {
   "cell_type": "code",
   "execution_count": 4,
   "metadata": {},
   "outputs": [],
   "source": [
    "def node_01(state: State):\n",
    "    print(f\"Node 01: {state['graph_msg']}\")\n",
    "    # Override the graph state (graph_msg)\n",
    "    return {\"graph_msg\": state[\"graph_msg\"] + \" node_01\"}\n",
    "\n",
    "\n",
    "def node_02(state: State):\n",
    "    print(f\"Node 02: {state['graph_msg']}\")\n",
    "    # Override the graph state (graph_msg)\n",
    "    return {\"graph_msg\": state[\"graph_msg\"] + \" node_02\"}\n",
    "\n",
    "\n",
    "def node_03(state: State):\n",
    "    print(f\"Node 03: {state['graph_msg']}\")\n",
    "    # Override the graph state (graph_msg)\n",
    "    return {\"graph_msg\": state[\"graph_msg\"] + \" node_03\"}"
   ]
  },
  {
   "cell_type": "markdown",
   "metadata": {},
   "source": [
    "### Building Graph"
   ]
  },
  {
   "cell_type": "code",
   "execution_count": 5,
   "metadata": {},
   "outputs": [],
   "source": [
    "from langgraph.graph import StateGraph, END, START"
   ]
  },
  {
   "cell_type": "code",
   "execution_count": 6,
   "metadata": {},
   "outputs": [],
   "source": [
    "import random\n",
    "from typing import Literal\n",
    "\n",
    "def select_next_node(state: State) -> Literal[\"node_02\", \"node_03\"]:\n",
    "    next_node = random.choice([\"node_02\", \"node_03\"])\n",
    "    \n",
    "    print(f\"Selected node: {next_node}\")\n",
    "    return next_node"
   ]
  },
  {
   "cell_type": "code",
   "execution_count": 8,
   "metadata": {},
   "outputs": [],
   "source": [
    "# Create builder\n",
    "builder = StateGraph(State)\n",
    "\n",
    "# Graph nodes\n",
    "builder.add_node(\"node_01\", node_01)\n",
    "builder.add_node(\"node_02\", node_02)\n",
    "builder.add_node(\"node_03\", node_03)\n",
    "\n",
    "\n",
    "# Add edge\n",
    "builder.add_edge(START, \"node_01\")\n",
    "builder.add_conditional_edges(\"node_01\", select_next_node)\n",
    "builder.add_edge(\"node_02\", END)\n",
    "builder.add_edge(\"node_03\", END)\n",
    "\n",
    "graph = builder.compile()"
   ]
  },
  {
   "cell_type": "markdown",
   "metadata": {},
   "source": [
    "### Visualize Graph"
   ]
  },
  {
   "cell_type": "code",
   "execution_count": 9,
   "metadata": {},
   "outputs": [],
   "source": [
    "from IPython.display import display, Image"
   ]
  },
  {
   "cell_type": "code",
   "execution_count": 10,
   "metadata": {},
   "outputs": [
    {
     "data": {
      "image/png": "[encoded data removed]",
      "text/plain": [
       "<IPython.core.display.Image object>"
      ]
     },
     "metadata": {},
     "output_type": "display_data"
    }
   ],
   "source": [
    "display(Image(graph.get_graph().draw_mermaid_png()))"
   ]
  },
  {
   "cell_type": "markdown",
   "metadata": {},
   "source": [
    "### Invoke Graph"
   ]
  },
  {
   "cell_type": "code",
   "execution_count": 13,
   "metadata": {},
   "outputs": [
    {
     "name": "stdout",
     "output_type": "stream",
     "text": [
      "Node 01: Hello\n",
      "Selected node: node_03\n",
      "Node 03: Hello node_01\n"
     ]
    }
   ],
   "source": [
    "response = graph.invoke({\"graph_msg\": \"Hello\"})"
   ]
  },
  {
   "cell_type": "code",
   "execution_count": 14,
   "metadata": {},
   "outputs": [
    {
     "data": {
      "text/plain": [
       "{'graph_msg': 'Hello node_01 node_03'}"
      ]
     },
     "execution_count": 14,
     "metadata": {},
     "output_type": "execute_result"
    }
   ],
   "source": [
    "response"
   ]
  },
  {
   "cell_type": "code",
   "execution_count": null,
   "metadata": {},
   "outputs": [],
   "source": []
  }
 ],
 "metadata": {
  "kernelspec": {
   "display_name": "venv",
   "language": "python",
   "name": "python3"
  },
  "language_info": {
   "codemirror_mode": {
    "name": "ipython",
    "version": 3
   },
   "file_extension": ".py",
   "mimetype": "text/x-python",
   "name": "python",
   "nbconvert_exporter": "python",
   "pygments_lexer": "ipython3",
   "version": "3.11.10"
  }
 },
 "nbformat": 4,
 "nbformat_minor": 2
}
